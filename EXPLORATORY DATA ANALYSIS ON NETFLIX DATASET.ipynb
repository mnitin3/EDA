{
 "cells": [
  {
   "cell_type": "markdown",
   "id": "67938105",
   "metadata": {
    "papermill": {
     "duration": 0.014592,
     "end_time": "2022-07-31T15:09:03.097871",
     "exception": false,
     "start_time": "2022-07-31T15:09:03.083279",
     "status": "completed"
    },
    "tags": []
   },
   "source": [
    "<h1 style=\"color:Maroon;font-size:30px; font-weight:bold;\"><center><b>EXPLORATORY DATA ANALYSIS ON NETFLIX DATASET</center></h1> "
   ]
  },
  {
   "cell_type": "markdown",
   "id": "568b01f2",
   "metadata": {
    "papermill": {
     "duration": 0.014187,
     "end_time": "2022-07-31T15:09:03.127370",
     "exception": false,
     "start_time": "2022-07-31T15:09:03.113183",
     "status": "completed"
    },
    "tags": []
   },
   "source": [
    "About Netflix\n",
    "\n",
    "Netflix, Inc. is an American subscription streaming service and production company. Launched on August 29, 1997, it offers a film and television series library through distribution deals as well as its own productions, known as Netflix Originals.\n",
    "\n",
    "As of March 31, 2022, Netflix had over 221.6 million subscribers worldwide, including 74.6 million in the United States and Canada, 74.0 million in Europe, the Middle East and Africa, 39.9 million in Latin America and 32.7 million in Asia-Pacific. It is available worldwide aside from Mainland China, Syria, North Korea, and Russia. Netflix has played a prominent role in independent film distribution, and it is a member of the Motion Picture Association (MPA).\n",
    "\n",
    "Netflix can be accessed via web browsers or via application software installed on smart TVs, set-top boxes connected to televisions, tablet computers, smartphones, digital media players, Blu-ray players, video game consoles and virtual reality headsets on the list of Netflix-compatible devices.It is available in 4K resolution. In the United States, the company provides DVD and Blu-ray rentals delivered individually via the United States Postal Service from regional warehouses.\n",
    "\n",
    "Netflix was founded on the aforementioned date by Reed Hastings and Marc Randolph in Scotts Valley, California. Netflix initially both sold and rented DVDs by mail, but the sales were eliminated within a year to focus on the DVD rental business. In 2007, Netflix introduced streaming media and video on demand. The company expanded to Canada in 2010, followed by Latin America and the Caribbean. Netflix entered the content-production industry in 2013, debuting its first series House of Cards. In January 2016, it expanded to an additional 130 countries and then operated in 190 countries.\n",
    "\n",
    "The company is ranked 115th on the Fortune 500 and 219th on the Forbes Global 2000. It is the second largest entertainment/media company by market capitalization as of February, 2022. In 2021, Netflix was ranked as the eighth-most trusted brand globally by Morning Consult.During the 2010s, Netflix was the top-performing stock in the S&P 500 stock market index, with a total return of 3,693%."
   ]
  },
  {
   "cell_type": "markdown",
   "id": "e3476312",
   "metadata": {},
   "source": [
    "### Data - Netflix Titles"
   ]
  },
  {
   "cell_type": "markdown",
   "id": "554b434b",
   "metadata": {},
   "source": [
    "The dataset (netflix_titles.csv) consists of tv shows and movies available on Netflix as of 2019 and contains information including:\n",
    "\n",
    "    General information: id, title, type (TV Show or Movie), director, cast and a brief description.\n",
    "    Date fields: When the show was released and when it was added to the catalog.\n",
    "    Categorization: Rating and category in which the show is listed.\n",
    "    \n",
    "The dataset provides a unique perspective on the world’s most lucrative cultural industry, reflected by Netflix: Movie and TV Production. "
   ]
  },
  {
   "cell_type": "code",
   "execution_count": null,
   "id": "62a9e959",
   "metadata": {},
   "outputs": [],
   "source": [
    "# !pip install seaborn"
   ]
  },
  {
   "cell_type": "markdown",
   "id": "c4aaf2df",
   "metadata": {
    "papermill": {
     "duration": 0.014348,
     "end_time": "2022-07-31T15:09:03.157106",
     "exception": false,
     "start_time": "2022-07-31T15:09:03.142758",
     "status": "completed"
    },
    "tags": []
   },
   "source": [
    "### Importing Required Libraries"
   ]
  },
  {
   "cell_type": "code",
   "execution_count": 35,
   "id": "97df2ad6",
   "metadata": {
    "execution": {
     "iopub.execute_input": "2022-07-31T15:09:03.188408Z",
     "iopub.status.busy": "2022-07-31T15:09:03.187663Z",
     "iopub.status.idle": "2022-07-31T15:09:06.502089Z",
     "shell.execute_reply": "2022-07-31T15:09:06.500665Z"
    },
    "papermill": {
     "duration": 3.3336,
     "end_time": "2022-07-31T15:09:06.505143",
     "exception": false,
     "start_time": "2022-07-31T15:09:03.171543",
     "status": "completed"
    },
    "tags": []
   },
   "outputs": [],
   "source": [
    "import numpy as np\n",
    "import pandas as pd\n",
    "import seaborn as sns\n",
    "import matplotlib.pyplot as plt \n",
    "import ast\n",
    "import random"
   ]
  },
  {
   "cell_type": "code",
   "execution_count": 36,
   "id": "1bd7bf31",
   "metadata": {
    "execution": {
     "iopub.execute_input": "2022-07-31T15:09:06.535810Z",
     "iopub.status.busy": "2022-07-31T15:09:06.535392Z",
     "iopub.status.idle": "2022-07-31T15:09:06.629434Z",
     "shell.execute_reply": "2022-07-31T15:09:06.628292Z"
    },
    "papermill": {
     "duration": 0.11258,
     "end_time": "2022-07-31T15:09:06.632277",
     "exception": false,
     "start_time": "2022-07-31T15:09:06.519697",
     "status": "completed"
    },
    "tags": []
   },
   "outputs": [],
   "source": [
    "df = pd.read_csv('titles.csv')"
   ]
  },
  {
   "cell_type": "code",
   "execution_count": 37,
   "id": "95bd24e0",
   "metadata": {},
   "outputs": [
    {
     "data": {
      "text/plain": [
       "Index(['id', 'title', 'type', 'description', 'release_year',\n",
       "       'age_certification', 'runtime', 'genres', 'production_countries',\n",
       "       'seasons', 'imdb_id', 'imdb_score', 'imdb_votes', 'tmdb_popularity',\n",
       "       'tmdb_score'],\n",
       "      dtype='object')"
      ]
     },
     "execution_count": 37,
     "metadata": {},
     "output_type": "execute_result"
    }
   ],
   "source": [
    "df.columns"
   ]
  },
  {
   "cell_type": "markdown",
   "id": "182de4ab",
   "metadata": {
    "papermill": {
     "duration": 0.014195,
     "end_time": "2022-07-31T15:09:06.661012",
     "exception": false,
     "start_time": "2022-07-31T15:09:06.646817",
     "status": "completed"
    },
    "tags": []
   },
   "source": [
    "# **Data Preprocessing**"
   ]
  },
  {
   "cell_type": "code",
   "execution_count": 41,
   "id": "785ed62a",
   "metadata": {
    "execution": {
     "iopub.execute_input": "2022-07-31T15:09:06.691864Z",
     "iopub.status.busy": "2022-07-31T15:09:06.691403Z",
     "iopub.status.idle": "2022-07-31T15:09:06.724839Z",
     "shell.execute_reply": "2022-07-31T15:09:06.723701Z"
    },
    "papermill": {
     "duration": 0.051885,
     "end_time": "2022-07-31T15:09:06.727414",
     "exception": false,
     "start_time": "2022-07-31T15:09:06.675529",
     "status": "completed"
    },
    "tags": []
   },
   "outputs": [
    {
     "data": {
      "text/html": [
       "<div>\n",
       "<style scoped>\n",
       "    .dataframe tbody tr th:only-of-type {\n",
       "        vertical-align: middle;\n",
       "    }\n",
       "\n",
       "    .dataframe tbody tr th {\n",
       "        vertical-align: top;\n",
       "    }\n",
       "\n",
       "    .dataframe thead th {\n",
       "        text-align: right;\n",
       "    }\n",
       "</style>\n",
       "<table border=\"1\" class=\"dataframe\">\n",
       "  <thead>\n",
       "    <tr style=\"text-align: right;\">\n",
       "      <th></th>\n",
       "      <th>id</th>\n",
       "      <th>title</th>\n",
       "      <th>type</th>\n",
       "      <th>description</th>\n",
       "      <th>release_year</th>\n",
       "      <th>age_certification</th>\n",
       "      <th>runtime</th>\n",
       "      <th>genres</th>\n",
       "      <th>production_countries</th>\n",
       "      <th>seasons</th>\n",
       "      <th>imdb_id</th>\n",
       "      <th>imdb_score</th>\n",
       "      <th>imdb_votes</th>\n",
       "      <th>tmdb_popularity</th>\n",
       "      <th>tmdb_score</th>\n",
       "    </tr>\n",
       "  </thead>\n",
       "  <tbody>\n",
       "    <tr>\n",
       "      <th>0</th>\n",
       "      <td>ts300399</td>\n",
       "      <td>Five Came Back: The Reference Films</td>\n",
       "      <td>SHOW</td>\n",
       "      <td>This collection includes 12 World War II-era p...</td>\n",
       "      <td>1945</td>\n",
       "      <td>TV-MA</td>\n",
       "      <td>51</td>\n",
       "      <td>['documentation']</td>\n",
       "      <td>['US']</td>\n",
       "      <td>1.0</td>\n",
       "      <td>NaN</td>\n",
       "      <td>NaN</td>\n",
       "      <td>NaN</td>\n",
       "      <td>0.600</td>\n",
       "      <td>NaN</td>\n",
       "    </tr>\n",
       "    <tr>\n",
       "      <th>1</th>\n",
       "      <td>tm84618</td>\n",
       "      <td>Taxi Driver</td>\n",
       "      <td>MOVIE</td>\n",
       "      <td>A mentally unstable Vietnam War veteran works ...</td>\n",
       "      <td>1976</td>\n",
       "      <td>R</td>\n",
       "      <td>114</td>\n",
       "      <td>['drama', 'crime']</td>\n",
       "      <td>['US']</td>\n",
       "      <td>NaN</td>\n",
       "      <td>tt0075314</td>\n",
       "      <td>8.2</td>\n",
       "      <td>808582.0</td>\n",
       "      <td>40.965</td>\n",
       "      <td>8.179</td>\n",
       "    </tr>\n",
       "    <tr>\n",
       "      <th>2</th>\n",
       "      <td>tm154986</td>\n",
       "      <td>Deliverance</td>\n",
       "      <td>MOVIE</td>\n",
       "      <td>Intent on seeing the Cahulawassee River before...</td>\n",
       "      <td>1972</td>\n",
       "      <td>R</td>\n",
       "      <td>109</td>\n",
       "      <td>['drama', 'action', 'thriller', 'european']</td>\n",
       "      <td>['US']</td>\n",
       "      <td>NaN</td>\n",
       "      <td>tt0068473</td>\n",
       "      <td>7.7</td>\n",
       "      <td>107673.0</td>\n",
       "      <td>10.010</td>\n",
       "      <td>7.300</td>\n",
       "    </tr>\n",
       "    <tr>\n",
       "      <th>3</th>\n",
       "      <td>tm127384</td>\n",
       "      <td>Monty Python and the Holy Grail</td>\n",
       "      <td>MOVIE</td>\n",
       "      <td>King Arthur, accompanied by his squire, recrui...</td>\n",
       "      <td>1975</td>\n",
       "      <td>PG</td>\n",
       "      <td>91</td>\n",
       "      <td>['fantasy', 'action', 'comedy']</td>\n",
       "      <td>['GB']</td>\n",
       "      <td>NaN</td>\n",
       "      <td>tt0071853</td>\n",
       "      <td>8.2</td>\n",
       "      <td>534486.0</td>\n",
       "      <td>15.461</td>\n",
       "      <td>7.811</td>\n",
       "    </tr>\n",
       "    <tr>\n",
       "      <th>4</th>\n",
       "      <td>tm120801</td>\n",
       "      <td>The Dirty Dozen</td>\n",
       "      <td>MOVIE</td>\n",
       "      <td>12 American military prisoners in World War II...</td>\n",
       "      <td>1967</td>\n",
       "      <td>NaN</td>\n",
       "      <td>150</td>\n",
       "      <td>['war', 'action']</td>\n",
       "      <td>['GB', 'US']</td>\n",
       "      <td>NaN</td>\n",
       "      <td>tt0061578</td>\n",
       "      <td>7.7</td>\n",
       "      <td>72662.0</td>\n",
       "      <td>20.398</td>\n",
       "      <td>7.600</td>\n",
       "    </tr>\n",
       "  </tbody>\n",
       "</table>\n",
       "</div>"
      ],
      "text/plain": [
       "         id                                title   type  \\\n",
       "0  ts300399  Five Came Back: The Reference Films   SHOW   \n",
       "1   tm84618                          Taxi Driver  MOVIE   \n",
       "2  tm154986                          Deliverance  MOVIE   \n",
       "3  tm127384      Monty Python and the Holy Grail  MOVIE   \n",
       "4  tm120801                      The Dirty Dozen  MOVIE   \n",
       "\n",
       "                                         description  release_year  \\\n",
       "0  This collection includes 12 World War II-era p...          1945   \n",
       "1  A mentally unstable Vietnam War veteran works ...          1976   \n",
       "2  Intent on seeing the Cahulawassee River before...          1972   \n",
       "3  King Arthur, accompanied by his squire, recrui...          1975   \n",
       "4  12 American military prisoners in World War II...          1967   \n",
       "\n",
       "  age_certification  runtime                                       genres  \\\n",
       "0             TV-MA       51                            ['documentation']   \n",
       "1                 R      114                           ['drama', 'crime']   \n",
       "2                 R      109  ['drama', 'action', 'thriller', 'european']   \n",
       "3                PG       91              ['fantasy', 'action', 'comedy']   \n",
       "4               NaN      150                            ['war', 'action']   \n",
       "\n",
       "  production_countries  seasons    imdb_id  imdb_score  imdb_votes  \\\n",
       "0               ['US']      1.0        NaN         NaN         NaN   \n",
       "1               ['US']      NaN  tt0075314         8.2    808582.0   \n",
       "2               ['US']      NaN  tt0068473         7.7    107673.0   \n",
       "3               ['GB']      NaN  tt0071853         8.2    534486.0   \n",
       "4         ['GB', 'US']      NaN  tt0061578         7.7     72662.0   \n",
       "\n",
       "   tmdb_popularity  tmdb_score  \n",
       "0            0.600         NaN  \n",
       "1           40.965       8.179  \n",
       "2           10.010       7.300  \n",
       "3           15.461       7.811  \n",
       "4           20.398       7.600  "
      ]
     },
     "execution_count": 41,
     "metadata": {},
     "output_type": "execute_result"
    }
   ],
   "source": [
    "df.head()"
   ]
  },
  {
   "cell_type": "code",
   "execution_count": 42,
   "id": "e00a5f96",
   "metadata": {
    "execution": {
     "iopub.execute_input": "2022-07-31T15:09:06.759743Z",
     "iopub.status.busy": "2022-07-31T15:09:06.759298Z",
     "iopub.status.idle": "2022-07-31T15:09:06.767368Z",
     "shell.execute_reply": "2022-07-31T15:09:06.766251Z"
    },
    "papermill": {
     "duration": 0.027144,
     "end_time": "2022-07-31T15:09:06.770075",
     "exception": false,
     "start_time": "2022-07-31T15:09:06.742931",
     "status": "completed"
    },
    "tags": []
   },
   "outputs": [
    {
     "data": {
      "text/plain": [
       "Index(['id', 'title', 'type', 'description', 'release_year',\n",
       "       'age_certification', 'runtime', 'genres', 'production_countries',\n",
       "       'seasons', 'imdb_id', 'imdb_score', 'imdb_votes', 'tmdb_popularity',\n",
       "       'tmdb_score'],\n",
       "      dtype='object')"
      ]
     },
     "execution_count": 42,
     "metadata": {},
     "output_type": "execute_result"
    }
   ],
   "source": [
    "df.columns"
   ]
  },
  {
   "cell_type": "code",
   "execution_count": 43,
   "id": "95ae93f3",
   "metadata": {
    "execution": {
     "iopub.execute_input": "2022-07-31T15:09:06.803009Z",
     "iopub.status.busy": "2022-07-31T15:09:06.801849Z",
     "iopub.status.idle": "2022-07-31T15:09:06.835260Z",
     "shell.execute_reply": "2022-07-31T15:09:06.833590Z"
    },
    "papermill": {
     "duration": 0.053583,
     "end_time": "2022-07-31T15:09:06.839009",
     "exception": false,
     "start_time": "2022-07-31T15:09:06.785426",
     "status": "completed"
    },
    "tags": []
   },
   "outputs": [
    {
     "name": "stdout",
     "output_type": "stream",
     "text": [
      "<class 'pandas.core.frame.DataFrame'>\n",
      "RangeIndex: 5850 entries, 0 to 5849\n",
      "Data columns (total 15 columns):\n",
      " #   Column                Non-Null Count  Dtype  \n",
      "---  ------                --------------  -----  \n",
      " 0   id                    5850 non-null   object \n",
      " 1   title                 5849 non-null   object \n",
      " 2   type                  5850 non-null   object \n",
      " 3   description           5832 non-null   object \n",
      " 4   release_year          5850 non-null   int64  \n",
      " 5   age_certification     3231 non-null   object \n",
      " 6   runtime               5850 non-null   int64  \n",
      " 7   genres                5850 non-null   object \n",
      " 8   production_countries  5850 non-null   object \n",
      " 9   seasons               2106 non-null   float64\n",
      " 10  imdb_id               5447 non-null   object \n",
      " 11  imdb_score            5368 non-null   float64\n",
      " 12  imdb_votes            5352 non-null   float64\n",
      " 13  tmdb_popularity       5759 non-null   float64\n",
      " 14  tmdb_score            5539 non-null   float64\n",
      "dtypes: float64(5), int64(2), object(8)\n",
      "memory usage: 685.7+ KB\n"
     ]
    }
   ],
   "source": [
    "df.info()"
   ]
  },
  {
   "cell_type": "code",
   "execution_count": 44,
   "id": "d08c4181",
   "metadata": {
    "execution": {
     "iopub.execute_input": "2022-07-31T15:09:06.872280Z",
     "iopub.status.busy": "2022-07-31T15:09:06.871381Z",
     "iopub.status.idle": "2022-07-31T15:09:06.913829Z",
     "shell.execute_reply": "2022-07-31T15:09:06.912631Z"
    },
    "papermill": {
     "duration": 0.061652,
     "end_time": "2022-07-31T15:09:06.916587",
     "exception": false,
     "start_time": "2022-07-31T15:09:06.854935",
     "status": "completed"
    },
    "tags": []
   },
   "outputs": [
    {
     "data": {
      "text/html": [
       "<div>\n",
       "<style scoped>\n",
       "    .dataframe tbody tr th:only-of-type {\n",
       "        vertical-align: middle;\n",
       "    }\n",
       "\n",
       "    .dataframe tbody tr th {\n",
       "        vertical-align: top;\n",
       "    }\n",
       "\n",
       "    .dataframe thead th {\n",
       "        text-align: right;\n",
       "    }\n",
       "</style>\n",
       "<table border=\"1\" class=\"dataframe\">\n",
       "  <thead>\n",
       "    <tr style=\"text-align: right;\">\n",
       "      <th></th>\n",
       "      <th>release_year</th>\n",
       "      <th>runtime</th>\n",
       "      <th>seasons</th>\n",
       "      <th>imdb_score</th>\n",
       "      <th>imdb_votes</th>\n",
       "      <th>tmdb_popularity</th>\n",
       "      <th>tmdb_score</th>\n",
       "    </tr>\n",
       "  </thead>\n",
       "  <tbody>\n",
       "    <tr>\n",
       "      <th>count</th>\n",
       "      <td>5850.000000</td>\n",
       "      <td>5850.000000</td>\n",
       "      <td>2106.000000</td>\n",
       "      <td>5368.000000</td>\n",
       "      <td>5.352000e+03</td>\n",
       "      <td>5759.000000</td>\n",
       "      <td>5539.000000</td>\n",
       "    </tr>\n",
       "    <tr>\n",
       "      <th>mean</th>\n",
       "      <td>2016.417094</td>\n",
       "      <td>76.888889</td>\n",
       "      <td>2.162868</td>\n",
       "      <td>6.510861</td>\n",
       "      <td>2.343938e+04</td>\n",
       "      <td>22.637925</td>\n",
       "      <td>6.829175</td>\n",
       "    </tr>\n",
       "    <tr>\n",
       "      <th>std</th>\n",
       "      <td>6.937726</td>\n",
       "      <td>39.002509</td>\n",
       "      <td>2.689041</td>\n",
       "      <td>1.163826</td>\n",
       "      <td>9.582047e+04</td>\n",
       "      <td>81.680263</td>\n",
       "      <td>1.170391</td>\n",
       "    </tr>\n",
       "    <tr>\n",
       "      <th>min</th>\n",
       "      <td>1945.000000</td>\n",
       "      <td>0.000000</td>\n",
       "      <td>1.000000</td>\n",
       "      <td>1.500000</td>\n",
       "      <td>5.000000e+00</td>\n",
       "      <td>0.009442</td>\n",
       "      <td>0.500000</td>\n",
       "    </tr>\n",
       "    <tr>\n",
       "      <th>25%</th>\n",
       "      <td>2016.000000</td>\n",
       "      <td>44.000000</td>\n",
       "      <td>1.000000</td>\n",
       "      <td>5.800000</td>\n",
       "      <td>5.167500e+02</td>\n",
       "      <td>2.728500</td>\n",
       "      <td>6.100000</td>\n",
       "    </tr>\n",
       "    <tr>\n",
       "      <th>50%</th>\n",
       "      <td>2018.000000</td>\n",
       "      <td>83.000000</td>\n",
       "      <td>1.000000</td>\n",
       "      <td>6.600000</td>\n",
       "      <td>2.233500e+03</td>\n",
       "      <td>6.821000</td>\n",
       "      <td>6.900000</td>\n",
       "    </tr>\n",
       "    <tr>\n",
       "      <th>75%</th>\n",
       "      <td>2020.000000</td>\n",
       "      <td>104.000000</td>\n",
       "      <td>2.000000</td>\n",
       "      <td>7.300000</td>\n",
       "      <td>9.494000e+03</td>\n",
       "      <td>16.590000</td>\n",
       "      <td>7.537500</td>\n",
       "    </tr>\n",
       "    <tr>\n",
       "      <th>max</th>\n",
       "      <td>2022.000000</td>\n",
       "      <td>240.000000</td>\n",
       "      <td>42.000000</td>\n",
       "      <td>9.600000</td>\n",
       "      <td>2.294231e+06</td>\n",
       "      <td>2274.044000</td>\n",
       "      <td>10.000000</td>\n",
       "    </tr>\n",
       "  </tbody>\n",
       "</table>\n",
       "</div>"
      ],
      "text/plain": [
       "       release_year      runtime      seasons   imdb_score    imdb_votes  \\\n",
       "count   5850.000000  5850.000000  2106.000000  5368.000000  5.352000e+03   \n",
       "mean    2016.417094    76.888889     2.162868     6.510861  2.343938e+04   \n",
       "std        6.937726    39.002509     2.689041     1.163826  9.582047e+04   \n",
       "min     1945.000000     0.000000     1.000000     1.500000  5.000000e+00   \n",
       "25%     2016.000000    44.000000     1.000000     5.800000  5.167500e+02   \n",
       "50%     2018.000000    83.000000     1.000000     6.600000  2.233500e+03   \n",
       "75%     2020.000000   104.000000     2.000000     7.300000  9.494000e+03   \n",
       "max     2022.000000   240.000000    42.000000     9.600000  2.294231e+06   \n",
       "\n",
       "       tmdb_popularity   tmdb_score  \n",
       "count      5759.000000  5539.000000  \n",
       "mean         22.637925     6.829175  \n",
       "std          81.680263     1.170391  \n",
       "min           0.009442     0.500000  \n",
       "25%           2.728500     6.100000  \n",
       "50%           6.821000     6.900000  \n",
       "75%          16.590000     7.537500  \n",
       "max        2274.044000    10.000000  "
      ]
     },
     "execution_count": 44,
     "metadata": {},
     "output_type": "execute_result"
    }
   ],
   "source": [
    "df.describe()"
   ]
  },
  {
   "cell_type": "code",
   "execution_count": 45,
   "id": "0a883534",
   "metadata": {},
   "outputs": [
    {
     "name": "stdout",
     "output_type": "stream",
     "text": [
      "60 -46.0 194.0\n"
     ]
    }
   ],
   "source": [
    "# IQR = 104-44\n",
    "# Min = 44 - IQR * 1.5\n",
    "# Max = 104 + IQR * 1.5\n",
    "# print(IQR, Min, Max)"
   ]
  },
  {
   "cell_type": "code",
   "execution_count": 46,
   "id": "dde97c33",
   "metadata": {
    "execution": {
     "iopub.execute_input": "2022-07-31T15:09:06.950209Z",
     "iopub.status.busy": "2022-07-31T15:09:06.949755Z",
     "iopub.status.idle": "2022-07-31T15:09:06.958481Z",
     "shell.execute_reply": "2022-07-31T15:09:06.957197Z"
    },
    "papermill": {
     "duration": 0.028347,
     "end_time": "2022-07-31T15:09:06.960939",
     "exception": false,
     "start_time": "2022-07-31T15:09:06.932592",
     "status": "completed"
    },
    "tags": []
   },
   "outputs": [],
   "source": [
    "def figure_size():\n",
    "    f = plt.figure()\n",
    "    f.set_figwidth(15)\n",
    "    f.set_figheight(10)\n",
    "    font = {'family' : 'normal','size'   : 13}\n",
    "    \n",
    "def repair_array_bound_categories(arr):\n",
    "    arr = ast.literal_eval(arr)\n",
    "    \n",
    "    if len(arr) == 0:\n",
    "        return np.nan\n",
    "    \n",
    "    elif len(arr) == 1:\n",
    "        return arr[0]\n",
    "    \n",
    "    else:\n",
    "        return random.choice(arr)"
   ]
  },
  {
   "cell_type": "code",
   "execution_count": 47,
   "id": "be6c8fa3",
   "metadata": {
    "execution": {
     "iopub.execute_input": "2022-07-31T15:09:06.994659Z",
     "iopub.status.busy": "2022-07-31T15:09:06.993653Z",
     "iopub.status.idle": "2022-07-31T15:09:07.159216Z",
     "shell.execute_reply": "2022-07-31T15:09:07.158022Z"
    },
    "papermill": {
     "duration": 0.185839,
     "end_time": "2022-07-31T15:09:07.162496",
     "exception": false,
     "start_time": "2022-07-31T15:09:06.976657",
     "status": "completed"
    },
    "tags": []
   },
   "outputs": [],
   "source": [
    "df[\"production_countries\"] = df[\"production_countries\"].apply(repair_array_bound_categories)\n",
    "df[\"genres\"] = df[\"genres\"].apply(repair_array_bound_categories)"
   ]
  },
  {
   "cell_type": "code",
   "execution_count": 48,
   "id": "45dd4e0c",
   "metadata": {},
   "outputs": [
    {
     "data": {
      "text/plain": [
       "0        US\n",
       "1        US\n",
       "2        US\n",
       "3        GB\n",
       "4        GB\n",
       "       ... \n",
       "5845     NG\n",
       "5846    NaN\n",
       "5847     CO\n",
       "5848     US\n",
       "5849    NaN\n",
       "Name: production_countries, Length: 5850, dtype: object"
      ]
     },
     "execution_count": 48,
     "metadata": {},
     "output_type": "execute_result"
    }
   ],
   "source": [
    "df[\"production_countries\"]"
   ]
  },
  {
   "cell_type": "code",
   "execution_count": 49,
   "id": "543fe60b",
   "metadata": {},
   "outputs": [
    {
     "data": {
      "text/plain": [
       "0       documentation\n",
       "1               crime\n",
       "2            thriller\n",
       "3              action\n",
       "4              action\n",
       "            ...      \n",
       "5845          romance\n",
       "5846            drama\n",
       "5847           comedy\n",
       "5848              NaN\n",
       "5849           family\n",
       "Name: genres, Length: 5850, dtype: object"
      ]
     },
     "execution_count": 49,
     "metadata": {},
     "output_type": "execute_result"
    }
   ],
   "source": [
    "df[\"genres\"]"
   ]
  },
  {
   "cell_type": "code",
   "execution_count": 50,
   "id": "0f7d58de",
   "metadata": {
    "execution": {
     "iopub.execute_input": "2022-07-31T15:09:07.195588Z",
     "iopub.status.busy": "2022-07-31T15:09:07.195133Z",
     "iopub.status.idle": "2022-07-31T15:09:07.212311Z",
     "shell.execute_reply": "2022-07-31T15:09:07.210931Z"
    },
    "papermill": {
     "duration": 0.037568,
     "end_time": "2022-07-31T15:09:07.215590",
     "exception": false,
     "start_time": "2022-07-31T15:09:07.178022",
     "status": "completed"
    },
    "tags": []
   },
   "outputs": [
    {
     "data": {
      "text/plain": [
       "id                         0\n",
       "title                      1\n",
       "type                       0\n",
       "description               18\n",
       "release_year               0\n",
       "age_certification       2619\n",
       "runtime                    0\n",
       "genres                    59\n",
       "production_countries     229\n",
       "seasons                 3744\n",
       "imdb_id                  403\n",
       "imdb_score               482\n",
       "imdb_votes               498\n",
       "tmdb_popularity           91\n",
       "tmdb_score               311\n",
       "dtype: int64"
      ]
     },
     "execution_count": 50,
     "metadata": {},
     "output_type": "execute_result"
    }
   ],
   "source": [
    "df.isnull().sum()"
   ]
  },
  {
   "cell_type": "markdown",
   "id": "3c00b74a",
   "metadata": {
    "papermill": {
     "duration": 0.015556,
     "end_time": "2022-07-31T15:09:07.247467",
     "exception": false,
     "start_time": "2022-07-31T15:09:07.231911",
     "status": "completed"
    },
    "tags": []
   },
   "source": [
    "# **Which show is more common in this Netflix dataset, movie or TV show?**"
   ]
  },
  {
   "cell_type": "code",
   "execution_count": 53,
   "id": "06961c64",
   "metadata": {},
   "outputs": [
    {
     "data": {
      "text/html": [
       "<div>\n",
       "<style scoped>\n",
       "    .dataframe tbody tr th:only-of-type {\n",
       "        vertical-align: middle;\n",
       "    }\n",
       "\n",
       "    .dataframe tbody tr th {\n",
       "        vertical-align: top;\n",
       "    }\n",
       "\n",
       "    .dataframe thead th {\n",
       "        text-align: right;\n",
       "    }\n",
       "</style>\n",
       "<table border=\"1\" class=\"dataframe\">\n",
       "  <thead>\n",
       "    <tr style=\"text-align: right;\">\n",
       "      <th></th>\n",
       "      <th>type</th>\n",
       "      <th>0</th>\n",
       "    </tr>\n",
       "  </thead>\n",
       "  <tbody>\n",
       "    <tr>\n",
       "      <th>0</th>\n",
       "      <td>MOVIE</td>\n",
       "      <td>3744</td>\n",
       "    </tr>\n",
       "    <tr>\n",
       "      <th>1</th>\n",
       "      <td>SHOW</td>\n",
       "      <td>2106</td>\n",
       "    </tr>\n",
       "  </tbody>\n",
       "</table>\n",
       "</div>"
      ],
      "text/plain": [
       "    type     0\n",
       "0  MOVIE  3744\n",
       "1   SHOW  2106"
      ]
     },
     "execution_count": 53,
     "metadata": {},
     "output_type": "execute_result"
    }
   ],
   "source": [
    "# df.groupby('type').size().reset_index()"
   ]
  },
  {
   "cell_type": "code",
   "execution_count": 54,
   "id": "a98aff91",
   "metadata": {
    "execution": {
     "iopub.execute_input": "2022-07-31T15:09:07.282754Z",
     "iopub.status.busy": "2022-07-31T15:09:07.282343Z",
     "iopub.status.idle": "2022-07-31T15:09:07.297907Z",
     "shell.execute_reply": "2022-07-31T15:09:07.296649Z"
    },
    "papermill": {
     "duration": 0.035745,
     "end_time": "2022-07-31T15:09:07.300487",
     "exception": false,
     "start_time": "2022-07-31T15:09:07.264742",
     "status": "completed"
    },
    "tags": []
   },
   "outputs": [
    {
     "data": {
      "text/html": [
       "<div>\n",
       "<style scoped>\n",
       "    .dataframe tbody tr th:only-of-type {\n",
       "        vertical-align: middle;\n",
       "    }\n",
       "\n",
       "    .dataframe tbody tr th {\n",
       "        vertical-align: top;\n",
       "    }\n",
       "\n",
       "    .dataframe thead th {\n",
       "        text-align: right;\n",
       "    }\n",
       "</style>\n",
       "<table border=\"1\" class=\"dataframe\">\n",
       "  <thead>\n",
       "    <tr style=\"text-align: right;\">\n",
       "      <th></th>\n",
       "      <th>type</th>\n",
       "      <th>counts</th>\n",
       "    </tr>\n",
       "  </thead>\n",
       "  <tbody>\n",
       "    <tr>\n",
       "      <th>0</th>\n",
       "      <td>MOVIE</td>\n",
       "      <td>3744</td>\n",
       "    </tr>\n",
       "    <tr>\n",
       "      <th>1</th>\n",
       "      <td>SHOW</td>\n",
       "      <td>2106</td>\n",
       "    </tr>\n",
       "  </tbody>\n",
       "</table>\n",
       "</div>"
      ],
      "text/plain": [
       "    type  counts\n",
       "0  MOVIE    3744\n",
       "1   SHOW    2106"
      ]
     },
     "execution_count": 54,
     "metadata": {},
     "output_type": "execute_result"
    }
   ],
   "source": [
    "types = df.groupby('type').size().reset_index().rename(columns = {0:'counts'})\n",
    "types"
   ]
  },
  {
   "cell_type": "code",
   "execution_count": 57,
   "id": "19f7b8c6",
   "metadata": {
    "execution": {
     "iopub.execute_input": "2022-07-31T15:09:07.335020Z",
     "iopub.status.busy": "2022-07-31T15:09:07.333831Z",
     "iopub.status.idle": "2022-07-31T15:09:07.917867Z",
     "shell.execute_reply": "2022-07-31T15:09:07.916542Z"
    },
    "papermill": {
     "duration": 0.604385,
     "end_time": "2022-07-31T15:09:07.920972",
     "exception": false,
     "start_time": "2022-07-31T15:09:07.316587",
     "status": "completed"
    },
    "tags": []
   },
   "outputs": [
    {
     "data": {
      "text/plain": [
       "<Figure size 1080x720 with 0 Axes>"
      ]
     },
     "metadata": {},
     "output_type": "display_data"
    },
    {
     "data": {
      "image/png": "[encoded data removed]",
      "text/plain": [
       "<Figure size 576x432 with 2 Axes>"
      ]
     },
     "metadata": {},
     "output_type": "display_data"
    }
   ],
   "source": [
    "figure_size()\n",
    "langs= types.type\n",
    "fig, axes = plt.subplots(1,2, figsize=(8,6))\n",
    "\n",
    "plt.tight_layout(pad=2)\n",
    "sns.set_style(\"darkgrid\")\n",
    "\n",
    "a1=sns.barplot(x = types.type, y = types.counts, ax=axes[0]);\n",
    "a1.set(xlabel='Types', ylabel='Counts')\n",
    "\n",
    "plt.pie(types.counts, autopct='%1.2f%%', labels = langs, radius=1.5, labeldistance=1.1 , rotatelabels=False)\n",
    "\n",
    "plt.legend()\n",
    "plt.show()"
   ]
  },
  {
   "cell_type": "markdown",
   "id": "53a6598f",
   "metadata": {
    "papermill": {
     "duration": 0.017079,
     "end_time": "2022-07-31T15:09:07.955230",
     "exception": false,
     "start_time": "2022-07-31T15:09:07.938151",
     "status": "completed"
    },
    "tags": []
   },
   "source": [
    "### **Observation**\n",
    "\n",
    "It has been Observed That Netflix has Movies(64.74) more than Shows(32.26)."
   ]
  },
  {
   "cell_type": "markdown",
   "id": "27f49f2a",
   "metadata": {
    "papermill": {
     "duration": 0.017597,
     "end_time": "2022-07-31T15:09:08.036448",
     "exception": false,
     "start_time": "2022-07-31T15:09:08.018851",
     "status": "completed"
    },
    "tags": []
   },
   "source": [
    "# **How are various Age Certifications are distributed in the data?**"
   ]
  },
  {
   "cell_type": "code",
   "execution_count": 60,
   "id": "3ae78891",
   "metadata": {
    "execution": {
     "iopub.execute_input": "2022-07-31T15:09:08.073113Z",
     "iopub.status.busy": "2022-07-31T15:09:08.072708Z",
     "iopub.status.idle": "2022-07-31T15:09:08.508137Z",
     "shell.execute_reply": "2022-07-31T15:09:08.506944Z"
    },
    "papermill": {
     "duration": 0.456898,
     "end_time": "2022-07-31T15:09:08.510810",
     "exception": false,
     "start_time": "2022-07-31T15:09:08.053912",
     "status": "completed"
    },
    "tags": []
   },
   "outputs": [
    {
     "data": {
      "text/plain": [
       "<Figure size 1080x720 with 0 Axes>"
      ]
     },
     "metadata": {},
     "output_type": "display_data"
    },
    {
     "data": {
      "image/png": "[encoded data removed]",
      "text/plain": [
       "<Figure size 360x360 with 1 Axes>"
      ]
     },
     "metadata": {},
     "output_type": "display_data"
    }
   ],
   "source": [
    "figure_size()\n",
    "sns.catplot(x='age_certification', kind=\"count\", data=df)\n",
    "plt.xticks(rotation=45)\n",
    "plt.show()"
   ]
  },
  {
   "cell_type": "markdown",
   "id": "20b95cb1",
   "metadata": {
    "papermill": {
     "duration": 0.017038,
     "end_time": "2022-07-31T15:09:08.545867",
     "exception": false,
     "start_time": "2022-07-31T15:09:08.528829",
     "status": "completed"
    },
    "tags": []
   },
   "source": [
    "### **Observation**\n",
    "* TV_MA: asigned to be viewed by adults and therefore may be unsuitable for children under 17"
   ]
  },
  {
   "cell_type": "markdown",
   "id": "505dc1c7",
   "metadata": {
    "papermill": {
     "duration": 0.017083,
     "end_time": "2022-07-31T15:09:08.580295",
     "exception": false,
     "start_time": "2022-07-31T15:09:08.563212",
     "status": "completed"
    },
    "tags": []
   },
   "source": [
    "# **which Genre is most/least occuring on Netflix?**"
   ]
  },
  {
   "cell_type": "code",
   "execution_count": 63,
   "id": "2bd34f6d",
   "metadata": {
    "execution": {
     "iopub.execute_input": "2022-07-31T15:09:08.618866Z",
     "iopub.status.busy": "2022-07-31T15:09:08.618022Z",
     "iopub.status.idle": "2022-07-31T15:09:09.170394Z",
     "shell.execute_reply": "2022-07-31T15:09:09.169175Z"
    },
    "papermill": {
     "duration": 0.5739,
     "end_time": "2022-07-31T15:09:09.172992",
     "exception": false,
     "start_time": "2022-07-31T15:09:08.599092",
     "status": "completed"
    },
    "tags": []
   },
   "outputs": [
    {
     "data": {
      "text/plain": [
       "<Figure size 1080x720 with 0 Axes>"
      ]
     },
     "metadata": {},
     "output_type": "display_data"
    },
    {
     "data": {
      "image/png": "[encoded data removed]",
      "text/plain": [
       "<Figure size 360x360 with 1 Axes>"
      ]
     },
     "metadata": {},
     "output_type": "display_data"
    }
   ],
   "source": [
    "figure_size()\n",
    "sns.catplot(x='genres', kind=\"count\", data=df, order=df['genres'].value_counts().index)\n",
    "plt.xticks(rotation=90)\n",
    "plt.show()"
   ]
  },
  {
   "cell_type": "markdown",
   "id": "de37b460",
   "metadata": {
    "papermill": {
     "duration": 0.017467,
     "end_time": "2022-07-31T15:09:09.208479",
     "exception": false,
     "start_time": "2022-07-31T15:09:09.191012",
     "status": "completed"
    },
    "tags": []
   },
   "source": [
    "### **Observation**\n",
    "Drama is the most popular and Western is the least popular Genre ."
   ]
  },
  {
   "cell_type": "markdown",
   "id": "4f1bb09a",
   "metadata": {
    "papermill": {
     "duration": 0.018081,
     "end_time": "2022-07-31T15:09:09.244427",
     "exception": false,
     "start_time": "2022-07-31T15:09:09.226346",
     "status": "completed"
    },
    "tags": []
   },
   "source": [
    "# **Top 10 countries that has produced most Movies/shows on Netflix?**"
   ]
  },
  {
   "cell_type": "code",
   "execution_count": 64,
   "id": "63ebb223",
   "metadata": {
    "execution": {
     "iopub.execute_input": "2022-07-31T15:09:09.282929Z",
     "iopub.status.busy": "2022-07-31T15:09:09.282503Z",
     "iopub.status.idle": "2022-07-31T15:09:09.289594Z",
     "shell.execute_reply": "2022-07-31T15:09:09.288727Z"
    },
    "papermill": {
     "duration": 0.029458,
     "end_time": "2022-07-31T15:09:09.291850",
     "exception": false,
     "start_time": "2022-07-31T15:09:09.262392",
     "status": "completed"
    },
    "tags": []
   },
   "outputs": [
    {
     "data": {
      "text/plain": [
       "Index(['id', 'title', 'type', 'description', 'release_year',\n",
       "       'age_certification', 'runtime', 'genres', 'production_countries',\n",
       "       'seasons', 'imdb_id', 'imdb_score', 'imdb_votes', 'tmdb_popularity',\n",
       "       'tmdb_score'],\n",
       "      dtype='object')"
      ]
     },
     "execution_count": 64,
     "metadata": {},
     "output_type": "execute_result"
    }
   ],
   "source": [
    "df.columns"
   ]
  },
  {
   "cell_type": "code",
   "execution_count": 65,
   "id": "28d93d7c",
   "metadata": {
    "execution": {
     "iopub.execute_input": "2022-07-31T15:09:09.330447Z",
     "iopub.status.busy": "2022-07-31T15:09:09.329662Z",
     "iopub.status.idle": "2022-07-31T15:09:09.349489Z",
     "shell.execute_reply": "2022-07-31T15:09:09.348533Z"
    },
    "papermill": {
     "duration": 0.042068,
     "end_time": "2022-07-31T15:09:09.351964",
     "exception": false,
     "start_time": "2022-07-31T15:09:09.309896",
     "status": "completed"
    },
    "tags": []
   },
   "outputs": [
    {
     "data": {
      "text/html": [
       "<div>\n",
       "<style scoped>\n",
       "    .dataframe tbody tr th:only-of-type {\n",
       "        vertical-align: middle;\n",
       "    }\n",
       "\n",
       "    .dataframe tbody tr th {\n",
       "        vertical-align: top;\n",
       "    }\n",
       "\n",
       "    .dataframe thead th {\n",
       "        text-align: right;\n",
       "    }\n",
       "</style>\n",
       "<table border=\"1\" class=\"dataframe\">\n",
       "  <thead>\n",
       "    <tr style=\"text-align: right;\">\n",
       "      <th></th>\n",
       "      <th>production_countries</th>\n",
       "      <th>counts</th>\n",
       "    </tr>\n",
       "  </thead>\n",
       "  <tbody>\n",
       "    <tr>\n",
       "      <th>0</th>\n",
       "      <td>US</td>\n",
       "      <td>2096</td>\n",
       "    </tr>\n",
       "    <tr>\n",
       "      <th>1</th>\n",
       "      <td>IN</td>\n",
       "      <td>605</td>\n",
       "    </tr>\n",
       "    <tr>\n",
       "      <th>2</th>\n",
       "      <td>GB</td>\n",
       "      <td>306</td>\n",
       "    </tr>\n",
       "    <tr>\n",
       "      <th>3</th>\n",
       "      <td>JP</td>\n",
       "      <td>269</td>\n",
       "    </tr>\n",
       "    <tr>\n",
       "      <th>4</th>\n",
       "      <td>KR</td>\n",
       "      <td>224</td>\n",
       "    </tr>\n",
       "    <tr>\n",
       "      <th>...</th>\n",
       "      <td>...</td>\n",
       "      <td>...</td>\n",
       "    </tr>\n",
       "    <tr>\n",
       "      <th>88</th>\n",
       "      <td>RS</td>\n",
       "      <td>1</td>\n",
       "    </tr>\n",
       "    <tr>\n",
       "      <th>89</th>\n",
       "      <td>Lebanon</td>\n",
       "      <td>1</td>\n",
       "    </tr>\n",
       "    <tr>\n",
       "      <th>90</th>\n",
       "      <td>MU</td>\n",
       "      <td>1</td>\n",
       "    </tr>\n",
       "    <tr>\n",
       "      <th>91</th>\n",
       "      <td>PY</td>\n",
       "      <td>1</td>\n",
       "    </tr>\n",
       "    <tr>\n",
       "      <th>92</th>\n",
       "      <td>ZW</td>\n",
       "      <td>1</td>\n",
       "    </tr>\n",
       "  </tbody>\n",
       "</table>\n",
       "<p>93 rows × 2 columns</p>\n",
       "</div>"
      ],
      "text/plain": [
       "   production_countries  counts\n",
       "0                    US    2096\n",
       "1                    IN     605\n",
       "2                    GB     306\n",
       "3                    JP     269\n",
       "4                    KR     224\n",
       "..                  ...     ...\n",
       "88                   RS       1\n",
       "89              Lebanon       1\n",
       "90                   MU       1\n",
       "91                   PY       1\n",
       "92                   ZW       1\n",
       "\n",
       "[93 rows x 2 columns]"
      ]
     },
     "execution_count": 65,
     "metadata": {},
     "output_type": "execute_result"
    }
   ],
   "source": [
    "countries = df.groupby('production_countries').size().reset_index().sort_values(by = 0,ascending = 0).reset_index().drop('index',axis = 1).rename(columns = {0:'counts'})\n",
    "countries"
   ]
  },
  {
   "cell_type": "code",
   "execution_count": null,
   "id": "14e1db02",
   "metadata": {},
   "outputs": [],
   "source": [
    "countries = df[['production_countries', 'type']].groupby('production_countries').size().sort_values(ascending=False).reset_index()\n",
    "countries.rename(columns = {0:'counts'}, inplace=True)\n",
    "countries"
   ]
  },
  {
   "cell_type": "code",
   "execution_count": 85,
   "id": "c9c77b8b",
   "metadata": {
    "execution": {
     "iopub.execute_input": "2022-07-31T15:09:09.390802Z",
     "iopub.status.busy": "2022-07-31T15:09:09.390383Z",
     "iopub.status.idle": "2022-07-31T15:09:09.707063Z",
     "shell.execute_reply": "2022-07-31T15:09:09.705869Z"
    },
    "papermill": {
     "duration": 0.339505,
     "end_time": "2022-07-31T15:09:09.709979",
     "exception": false,
     "start_time": "2022-07-31T15:09:09.370474",
     "status": "completed"
    },
    "tags": []
   },
   "outputs": [
    {
     "data": {
      "image/png": "[encoded data removed]",
      "text/plain": [
       "<Figure size 1080x720 with 1 Axes>"
      ]
     },
     "metadata": {},
     "output_type": "display_data"
    }
   ],
   "source": [
    "figure_size()\n",
    "sns.barplot(x = countries.production_countries[:10],y = countries.counts[:10]);\n",
    "plt.xticks(rotation=45)\n",
    "plt.show()"
   ]
  },
  {
   "cell_type": "markdown",
   "id": "eea90d62",
   "metadata": {
    "papermill": {
     "duration": 0.018917,
     "end_time": "2022-07-31T15:09:10.934421",
     "exception": false,
     "start_time": "2022-07-31T15:09:10.915504",
     "status": "completed"
    },
    "tags": []
   },
   "source": [
    "# **Observation**\n",
    "\n",
    "As we can observe US is the Most Popular Production Countries."
   ]
  },
  {
   "cell_type": "markdown",
   "id": "0a5e9777",
   "metadata": {
    "papermill": {
     "duration": 0.019274,
     "end_time": "2022-07-31T15:09:10.972988",
     "exception": false,
     "start_time": "2022-07-31T15:09:10.953714",
     "status": "completed"
    },
    "tags": []
   },
   "source": [
    "# **Year-wise analysis of Netflix content released**"
   ]
  },
  {
   "cell_type": "code",
   "execution_count": 71,
   "id": "2e543950",
   "metadata": {
    "execution": {
     "iopub.execute_input": "2022-07-31T15:09:11.156923Z",
     "iopub.status.busy": "2022-07-31T15:09:11.156520Z",
     "iopub.status.idle": "2022-07-31T15:09:11.174608Z",
     "shell.execute_reply": "2022-07-31T15:09:11.172950Z"
    },
    "papermill": {
     "duration": 0.043272,
     "end_time": "2022-07-31T15:09:11.177866",
     "exception": false,
     "start_time": "2022-07-31T15:09:11.134594",
     "status": "completed"
    },
    "tags": []
   },
   "outputs": [
    {
     "data": {
      "text/html": [
       "<div>\n",
       "<style scoped>\n",
       "    .dataframe tbody tr th:only-of-type {\n",
       "        vertical-align: middle;\n",
       "    }\n",
       "\n",
       "    .dataframe tbody tr th {\n",
       "        vertical-align: top;\n",
       "    }\n",
       "\n",
       "    .dataframe thead th {\n",
       "        text-align: right;\n",
       "    }\n",
       "</style>\n",
       "<table border=\"1\" class=\"dataframe\">\n",
       "  <thead>\n",
       "    <tr style=\"text-align: right;\">\n",
       "      <th></th>\n",
       "      <th>release_year</th>\n",
       "      <th>counts</th>\n",
       "    </tr>\n",
       "  </thead>\n",
       "  <tbody>\n",
       "    <tr>\n",
       "      <th>0</th>\n",
       "      <td>2019</td>\n",
       "      <td>836</td>\n",
       "    </tr>\n",
       "    <tr>\n",
       "      <th>1</th>\n",
       "      <td>2020</td>\n",
       "      <td>814</td>\n",
       "    </tr>\n",
       "    <tr>\n",
       "      <th>2</th>\n",
       "      <td>2021</td>\n",
       "      <td>787</td>\n",
       "    </tr>\n",
       "    <tr>\n",
       "      <th>3</th>\n",
       "      <td>2018</td>\n",
       "      <td>773</td>\n",
       "    </tr>\n",
       "    <tr>\n",
       "      <th>4</th>\n",
       "      <td>2017</td>\n",
       "      <td>563</td>\n",
       "    </tr>\n",
       "    <tr>\n",
       "      <th>...</th>\n",
       "      <td>...</td>\n",
       "      <td>...</td>\n",
       "    </tr>\n",
       "    <tr>\n",
       "      <th>58</th>\n",
       "      <td>1960</td>\n",
       "      <td>1</td>\n",
       "    </tr>\n",
       "    <tr>\n",
       "      <th>59</th>\n",
       "      <td>1974</td>\n",
       "      <td>1</td>\n",
       "    </tr>\n",
       "    <tr>\n",
       "      <th>60</th>\n",
       "      <td>1959</td>\n",
       "      <td>1</td>\n",
       "    </tr>\n",
       "    <tr>\n",
       "      <th>61</th>\n",
       "      <td>1978</td>\n",
       "      <td>1</td>\n",
       "    </tr>\n",
       "    <tr>\n",
       "      <th>62</th>\n",
       "      <td>1945</td>\n",
       "      <td>1</td>\n",
       "    </tr>\n",
       "  </tbody>\n",
       "</table>\n",
       "<p>63 rows × 2 columns</p>\n",
       "</div>"
      ],
      "text/plain": [
       "    release_year  counts\n",
       "0           2019     836\n",
       "1           2020     814\n",
       "2           2021     787\n",
       "3           2018     773\n",
       "4           2017     563\n",
       "..           ...     ...\n",
       "58          1960       1\n",
       "59          1974       1\n",
       "60          1959       1\n",
       "61          1978       1\n",
       "62          1945       1\n",
       "\n",
       "[63 rows x 2 columns]"
      ]
     },
     "execution_count": 71,
     "metadata": {},
     "output_type": "execute_result"
    }
   ],
   "source": [
    "release_year_count= df.release_year.value_counts().reset_index()\n",
    "release_year_count.rename(columns = {'index':'release_year','release_year': 'counts' }, inplace=True)\n",
    "release_year_count = pd.DataFrame(release_year_count)\n",
    "release_year_count"
   ]
  },
  {
   "cell_type": "code",
   "execution_count": 74,
   "id": "dca23a32",
   "metadata": {
    "execution": {
     "iopub.execute_input": "2022-07-31T15:09:11.224107Z",
     "iopub.status.busy": "2022-07-31T15:09:11.223258Z",
     "iopub.status.idle": "2022-07-31T15:09:11.586469Z",
     "shell.execute_reply": "2022-07-31T15:09:11.585308Z"
    },
    "papermill": {
     "duration": 0.389889,
     "end_time": "2022-07-31T15:09:11.589007",
     "exception": false,
     "start_time": "2022-07-31T15:09:11.199118",
     "status": "completed"
    },
    "tags": []
   },
   "outputs": [
    {
     "data": {
      "image/png": "[encoded data removed]",
      "text/plain": [
       "<Figure size 1080x576 with 1 Axes>"
      ]
     },
     "metadata": {},
     "output_type": "display_data"
    }
   ],
   "source": [
    "plt.figure(figsize=(15, 8))\n",
    "sns.lineplot(x='release_year', y='counts', data= release_year_count)\n",
    "\n",
    "plt.title('Netflix´s shows release date (1940-2021)')\n",
    "plt.xlabel('Year released')\n",
    "plt.ylabel('Total Shows on Netflix')\n",
    "\n",
    "plt.xticks(release_year_count['release_year'])\n",
    "plt.xticks(rotation=90)\n",
    "plt.show()"
   ]
  },
  {
   "cell_type": "markdown",
   "id": "d8b80cb4",
   "metadata": {
    "papermill": {
     "duration": 0.020391,
     "end_time": "2022-07-31T15:09:11.631076",
     "exception": false,
     "start_time": "2022-07-31T15:09:11.610685",
     "status": "completed"
    },
    "tags": []
   },
   "source": [
    "### **Observation**\n",
    "\n",
    "It has been Observed That most of the Movies are released in 2019.\n",
    "\n",
    "It has been Observed That most of the Movies are released in period of  2010-2019."
   ]
  },
  {
   "cell_type": "markdown",
   "id": "851c9f03",
   "metadata": {
    "papermill": {
     "duration": 0.020383,
     "end_time": "2022-07-31T15:09:11.672125",
     "exception": false,
     "start_time": "2022-07-31T15:09:11.651742",
     "status": "completed"
    },
    "tags": []
   },
   "source": [
    "# **Bi-Variate Analysis**"
   ]
  },
  {
   "cell_type": "markdown",
   "id": "f2ccf966",
   "metadata": {
    "papermill": {
     "duration": 0.020457,
     "end_time": "2022-07-31T15:09:11.713403",
     "exception": false,
     "start_time": "2022-07-31T15:09:11.692946",
     "status": "completed"
    },
    "tags": []
   },
   "source": [
    "# **What is break up of Genre for each Types of content?**"
   ]
  },
  {
   "cell_type": "code",
   "execution_count": 75,
   "id": "ad0b6438",
   "metadata": {
    "execution": {
     "iopub.execute_input": "2022-07-31T15:09:11.758087Z",
     "iopub.status.busy": "2022-07-31T15:09:11.757647Z",
     "iopub.status.idle": "2022-07-31T15:09:13.025033Z",
     "shell.execute_reply": "2022-07-31T15:09:13.024072Z"
    },
    "papermill": {
     "duration": 1.292702,
     "end_time": "2022-07-31T15:09:13.027322",
     "exception": false,
     "start_time": "2022-07-31T15:09:11.734620",
     "status": "completed"
    },
    "tags": []
   },
   "outputs": [
    {
     "data": {
      "image/png": "[encoded data removed]",
      "text/plain": [
       "<Figure size 2400x1200 with 1 Axes>"
      ]
     },
     "metadata": {},
     "output_type": "display_data"
    }
   ],
   "source": [
    "plt.figure(figsize=(24, 12), dpi=100)\n",
    "sns.countplot(data=df, x=\"genres\", hue=\"type\", palette = 'magma')\n",
    "plt.xticks(fontsize=12)\n",
    "plt.xticks(rotation=45);"
   ]
  },
  {
   "cell_type": "markdown",
   "id": "353d2109",
   "metadata": {
    "papermill": {
     "duration": 0.023089,
     "end_time": "2022-07-31T15:09:13.072547",
     "exception": false,
     "start_time": "2022-07-31T15:09:13.049458",
     "status": "completed"
    },
    "tags": []
   },
   "source": [
    "# **which genres have the best average IMDB Ratings?**"
   ]
  },
  {
   "cell_type": "code",
   "execution_count": 77,
   "id": "1a697f1d",
   "metadata": {
    "execution": {
     "iopub.execute_input": "2022-07-31T15:09:13.119654Z",
     "iopub.status.busy": "2022-07-31T15:09:13.118825Z",
     "iopub.status.idle": "2022-07-31T15:09:13.137178Z",
     "shell.execute_reply": "2022-07-31T15:09:13.136230Z"
    },
    "papermill": {
     "duration": 0.044779,
     "end_time": "2022-07-31T15:09:13.139518",
     "exception": false,
     "start_time": "2022-07-31T15:09:13.094739",
     "status": "completed"
    },
    "tags": []
   },
   "outputs": [
    {
     "data": {
      "text/html": [
       "<div>\n",
       "<style scoped>\n",
       "    .dataframe tbody tr th:only-of-type {\n",
       "        vertical-align: middle;\n",
       "    }\n",
       "\n",
       "    .dataframe tbody tr th {\n",
       "        vertical-align: top;\n",
       "    }\n",
       "\n",
       "    .dataframe thead th {\n",
       "        text-align: right;\n",
       "    }\n",
       "</style>\n",
       "<table border=\"1\" class=\"dataframe\">\n",
       "  <thead>\n",
       "    <tr style=\"text-align: right;\">\n",
       "      <th></th>\n",
       "      <th>genres</th>\n",
       "      <th>imdb_score</th>\n",
       "    </tr>\n",
       "  </thead>\n",
       "  <tbody>\n",
       "    <tr>\n",
       "      <th>10</th>\n",
       "      <td>horror</td>\n",
       "      <td>5.838235</td>\n",
       "    </tr>\n",
       "    <tr>\n",
       "      <th>7</th>\n",
       "      <td>family</td>\n",
       "      <td>6.240000</td>\n",
       "    </tr>\n",
       "    <tr>\n",
       "      <th>16</th>\n",
       "      <td>thriller</td>\n",
       "      <td>6.286533</td>\n",
       "    </tr>\n",
       "    <tr>\n",
       "      <th>0</th>\n",
       "      <td>action</td>\n",
       "      <td>6.301543</td>\n",
       "    </tr>\n",
       "    <tr>\n",
       "      <th>12</th>\n",
       "      <td>reality</td>\n",
       "      <td>6.307006</td>\n",
       "    </tr>\n",
       "    <tr>\n",
       "      <th>8</th>\n",
       "      <td>fantasy</td>\n",
       "      <td>6.343662</td>\n",
       "    </tr>\n",
       "    <tr>\n",
       "      <th>13</th>\n",
       "      <td>romance</td>\n",
       "      <td>6.353314</td>\n",
       "    </tr>\n",
       "    <tr>\n",
       "      <th>2</th>\n",
       "      <td>comedy</td>\n",
       "      <td>6.360432</td>\n",
       "    </tr>\n",
       "    <tr>\n",
       "      <th>14</th>\n",
       "      <td>scifi</td>\n",
       "      <td>6.442568</td>\n",
       "    </tr>\n",
       "    <tr>\n",
       "      <th>11</th>\n",
       "      <td>music</td>\n",
       "      <td>6.498611</td>\n",
       "    </tr>\n",
       "    <tr>\n",
       "      <th>6</th>\n",
       "      <td>european</td>\n",
       "      <td>6.508955</td>\n",
       "    </tr>\n",
       "    <tr>\n",
       "      <th>1</th>\n",
       "      <td>animation</td>\n",
       "      <td>6.597778</td>\n",
       "    </tr>\n",
       "    <tr>\n",
       "      <th>5</th>\n",
       "      <td>drama</td>\n",
       "      <td>6.630385</td>\n",
       "    </tr>\n",
       "    <tr>\n",
       "      <th>3</th>\n",
       "      <td>crime</td>\n",
       "      <td>6.648519</td>\n",
       "    </tr>\n",
       "    <tr>\n",
       "      <th>15</th>\n",
       "      <td>sport</td>\n",
       "      <td>6.654717</td>\n",
       "    </tr>\n",
       "    <tr>\n",
       "      <th>18</th>\n",
       "      <td>western</td>\n",
       "      <td>6.664286</td>\n",
       "    </tr>\n",
       "    <tr>\n",
       "      <th>17</th>\n",
       "      <td>war</td>\n",
       "      <td>6.934694</td>\n",
       "    </tr>\n",
       "    <tr>\n",
       "      <th>4</th>\n",
       "      <td>documentation</td>\n",
       "      <td>7.036207</td>\n",
       "    </tr>\n",
       "    <tr>\n",
       "      <th>9</th>\n",
       "      <td>history</td>\n",
       "      <td>7.118182</td>\n",
       "    </tr>\n",
       "  </tbody>\n",
       "</table>\n",
       "</div>"
      ],
      "text/plain": [
       "           genres  imdb_score\n",
       "10         horror    5.838235\n",
       "7          family    6.240000\n",
       "16       thriller    6.286533\n",
       "0          action    6.301543\n",
       "12        reality    6.307006\n",
       "8         fantasy    6.343662\n",
       "13        romance    6.353314\n",
       "2          comedy    6.360432\n",
       "14          scifi    6.442568\n",
       "11          music    6.498611\n",
       "6        european    6.508955\n",
       "1       animation    6.597778\n",
       "5           drama    6.630385\n",
       "3           crime    6.648519\n",
       "15          sport    6.654717\n",
       "18        western    6.664286\n",
       "17            war    6.934694\n",
       "4   documentation    7.036207\n",
       "9         history    7.118182"
      ]
     },
     "execution_count": 77,
     "metadata": {},
     "output_type": "execute_result"
    }
   ],
   "source": [
    "b = df.groupby('genres')[['imdb_score']].mean().reset_index().sort_values(by='imdb_score')\n",
    "b"
   ]
  },
  {
   "cell_type": "code",
   "execution_count": 78,
   "id": "8cf5d85f",
   "metadata": {
    "execution": {
     "iopub.execute_input": "2022-07-31T15:09:13.186245Z",
     "iopub.status.busy": "2022-07-31T15:09:13.185496Z",
     "iopub.status.idle": "2022-07-31T15:09:13.612321Z",
     "shell.execute_reply": "2022-07-31T15:09:13.610924Z"
    },
    "papermill": {
     "duration": 0.453331,
     "end_time": "2022-07-31T15:09:13.615049",
     "exception": false,
     "start_time": "2022-07-31T15:09:13.161718",
     "status": "completed"
    },
    "tags": []
   },
   "outputs": [
    {
     "data": {
      "image/png": "[encoded data removed]",
      "text/plain": [
       "<Figure size 1080x720 with 1 Axes>"
      ]
     },
     "metadata": {},
     "output_type": "display_data"
    }
   ],
   "source": [
    "figure_size()\n",
    "sns.barplot(x='genres', y='imdb_score', data=b, palette = 'magma')\n",
    "plt.xticks(rotation=45)\n",
    "plt.xticks(fontsize=12)\n",
    "plt.show()"
   ]
  },
  {
   "cell_type": "markdown",
   "id": "b3b5a5ac",
   "metadata": {},
   "source": [
    "# **which genres have the best average TMDB Ratings?**"
   ]
  },
  {
   "cell_type": "code",
   "execution_count": 80,
   "id": "9a476573",
   "metadata": {
    "execution": {
     "iopub.execute_input": "2022-07-31T15:09:13.662370Z",
     "iopub.status.busy": "2022-07-31T15:09:13.661934Z",
     "iopub.status.idle": "2022-07-31T15:09:13.680244Z",
     "shell.execute_reply": "2022-07-31T15:09:13.678967Z"
    },
    "papermill": {
     "duration": 0.044899,
     "end_time": "2022-07-31T15:09:13.682784",
     "exception": false,
     "start_time": "2022-07-31T15:09:13.637885",
     "status": "completed"
    },
    "tags": []
   },
   "outputs": [
    {
     "data": {
      "text/html": [
       "<div>\n",
       "<style scoped>\n",
       "    .dataframe tbody tr th:only-of-type {\n",
       "        vertical-align: middle;\n",
       "    }\n",
       "\n",
       "    .dataframe tbody tr th {\n",
       "        vertical-align: top;\n",
       "    }\n",
       "\n",
       "    .dataframe thead th {\n",
       "        text-align: right;\n",
       "    }\n",
       "</style>\n",
       "<table border=\"1\" class=\"dataframe\">\n",
       "  <thead>\n",
       "    <tr style=\"text-align: right;\">\n",
       "      <th></th>\n",
       "      <th>genres</th>\n",
       "      <th>tmdb_score</th>\n",
       "    </tr>\n",
       "  </thead>\n",
       "  <tbody>\n",
       "    <tr>\n",
       "      <th>10</th>\n",
       "      <td>horror</td>\n",
       "      <td>6.297724</td>\n",
       "    </tr>\n",
       "    <tr>\n",
       "      <th>16</th>\n",
       "      <td>thriller</td>\n",
       "      <td>6.568651</td>\n",
       "    </tr>\n",
       "    <tr>\n",
       "      <th>6</th>\n",
       "      <td>european</td>\n",
       "      <td>6.591066</td>\n",
       "    </tr>\n",
       "    <tr>\n",
       "      <th>2</th>\n",
       "      <td>comedy</td>\n",
       "      <td>6.617732</td>\n",
       "    </tr>\n",
       "    <tr>\n",
       "      <th>0</th>\n",
       "      <td>action</td>\n",
       "      <td>6.683576</td>\n",
       "    </tr>\n",
       "    <tr>\n",
       "      <th>13</th>\n",
       "      <td>romance</td>\n",
       "      <td>6.738148</td>\n",
       "    </tr>\n",
       "    <tr>\n",
       "      <th>18</th>\n",
       "      <td>western</td>\n",
       "      <td>6.767000</td>\n",
       "    </tr>\n",
       "    <tr>\n",
       "      <th>5</th>\n",
       "      <td>drama</td>\n",
       "      <td>6.839430</td>\n",
       "    </tr>\n",
       "    <tr>\n",
       "      <th>3</th>\n",
       "      <td>crime</td>\n",
       "      <td>6.846967</td>\n",
       "    </tr>\n",
       "    <tr>\n",
       "      <th>17</th>\n",
       "      <td>war</td>\n",
       "      <td>6.963075</td>\n",
       "    </tr>\n",
       "    <tr>\n",
       "      <th>11</th>\n",
       "      <td>music</td>\n",
       "      <td>6.968243</td>\n",
       "    </tr>\n",
       "    <tr>\n",
       "      <th>8</th>\n",
       "      <td>fantasy</td>\n",
       "      <td>7.002882</td>\n",
       "    </tr>\n",
       "    <tr>\n",
       "      <th>4</th>\n",
       "      <td>documentation</td>\n",
       "      <td>7.034168</td>\n",
       "    </tr>\n",
       "    <tr>\n",
       "      <th>14</th>\n",
       "      <td>scifi</td>\n",
       "      <td>7.138581</td>\n",
       "    </tr>\n",
       "    <tr>\n",
       "      <th>15</th>\n",
       "      <td>sport</td>\n",
       "      <td>7.155038</td>\n",
       "    </tr>\n",
       "    <tr>\n",
       "      <th>12</th>\n",
       "      <td>reality</td>\n",
       "      <td>7.187250</td>\n",
       "    </tr>\n",
       "    <tr>\n",
       "      <th>7</th>\n",
       "      <td>family</td>\n",
       "      <td>7.192134</td>\n",
       "    </tr>\n",
       "    <tr>\n",
       "      <th>9</th>\n",
       "      <td>history</td>\n",
       "      <td>7.230047</td>\n",
       "    </tr>\n",
       "    <tr>\n",
       "      <th>1</th>\n",
       "      <td>animation</td>\n",
       "      <td>7.233168</td>\n",
       "    </tr>\n",
       "  </tbody>\n",
       "</table>\n",
       "</div>"
      ],
      "text/plain": [
       "           genres  tmdb_score\n",
       "10         horror    6.297724\n",
       "16       thriller    6.568651\n",
       "6        european    6.591066\n",
       "2          comedy    6.617732\n",
       "0          action    6.683576\n",
       "13        romance    6.738148\n",
       "18        western    6.767000\n",
       "5           drama    6.839430\n",
       "3           crime    6.846967\n",
       "17            war    6.963075\n",
       "11          music    6.968243\n",
       "8         fantasy    7.002882\n",
       "4   documentation    7.034168\n",
       "14          scifi    7.138581\n",
       "15          sport    7.155038\n",
       "12        reality    7.187250\n",
       "7          family    7.192134\n",
       "9         history    7.230047\n",
       "1       animation    7.233168"
      ]
     },
     "execution_count": 80,
     "metadata": {},
     "output_type": "execute_result"
    }
   ],
   "source": [
    "b = df.groupby('genres')[['tmdb_score']].mean().reset_index().sort_values(by='tmdb_score')\n",
    "b"
   ]
  },
  {
   "cell_type": "code",
   "execution_count": 81,
   "id": "b7e81c32",
   "metadata": {
    "execution": {
     "iopub.execute_input": "2022-07-31T15:09:13.731341Z",
     "iopub.status.busy": "2022-07-31T15:09:13.730538Z",
     "iopub.status.idle": "2022-07-31T15:09:14.163799Z",
     "shell.execute_reply": "2022-07-31T15:09:14.162888Z"
    },
    "papermill": {
     "duration": 0.460402,
     "end_time": "2022-07-31T15:09:14.166327",
     "exception": false,
     "start_time": "2022-07-31T15:09:13.705925",
     "status": "completed"
    },
    "tags": []
   },
   "outputs": [
    {
     "data": {
      "image/png": "[encoded data removed]",
      "text/plain": [
       "<Figure size 1080x720 with 1 Axes>"
      ]
     },
     "metadata": {},
     "output_type": "display_data"
    }
   ],
   "source": [
    "figure_size()\n",
    "sns.barplot(x='genres', y='tmdb_score', data=b, palette = 'magma')\n",
    "plt.xticks(rotation=45, fontsize=12)\n",
    "plt.show()"
   ]
  },
  {
   "cell_type": "code",
   "execution_count": 82,
   "id": "7713588e",
   "metadata": {
    "execution": {
     "iopub.execute_input": "2022-07-31T15:09:14.216415Z",
     "iopub.status.busy": "2022-07-31T15:09:14.215649Z",
     "iopub.status.idle": "2022-07-31T15:09:14.583874Z",
     "shell.execute_reply": "2022-07-31T15:09:14.582685Z"
    },
    "papermill": {
     "duration": 0.396456,
     "end_time": "2022-07-31T15:09:14.586591",
     "exception": false,
     "start_time": "2022-07-31T15:09:14.190135",
     "status": "completed"
    },
    "tags": []
   },
   "outputs": [
    {
     "data": {
      "image/png": "[encoded data removed]",
      "text/plain": [
       "<Figure size 1080x720 with 2 Axes>"
      ]
     },
     "metadata": {},
     "output_type": "display_data"
    }
   ],
   "source": [
    "df_num = df[['release_year', 'runtime',   'seasons',  'imdb_score', 'imdb_votes', 'tmdb_popularity',  'tmdb_score']]\n",
    "figure_size()\n",
    "sns.heatmap(df_num.corr(), annot=True)\n",
    "plt.xticks(rotation=45, fontsize=12)\n",
    "plt.yticks(rotation=45, fontsize=12)\n",
    "plt.show()"
   ]
  },
  {
   "cell_type": "code",
   "execution_count": 83,
   "id": "af295a13",
   "metadata": {},
   "outputs": [
    {
     "data": {
      "text/html": [
       "<div>\n",
       "<style scoped>\n",
       "    .dataframe tbody tr th:only-of-type {\n",
       "        vertical-align: middle;\n",
       "    }\n",
       "\n",
       "    .dataframe tbody tr th {\n",
       "        vertical-align: top;\n",
       "    }\n",
       "\n",
       "    .dataframe thead th {\n",
       "        text-align: right;\n",
       "    }\n",
       "</style>\n",
       "<table border=\"1\" class=\"dataframe\">\n",
       "  <thead>\n",
       "    <tr style=\"text-align: right;\">\n",
       "      <th></th>\n",
       "      <th>release_year</th>\n",
       "      <th>runtime</th>\n",
       "      <th>seasons</th>\n",
       "      <th>imdb_score</th>\n",
       "      <th>imdb_votes</th>\n",
       "      <th>tmdb_popularity</th>\n",
       "      <th>tmdb_score</th>\n",
       "    </tr>\n",
       "  </thead>\n",
       "  <tbody>\n",
       "    <tr>\n",
       "      <th>release_year</th>\n",
       "      <td>1.000000</td>\n",
       "      <td>-0.173551</td>\n",
       "      <td>-0.504407</td>\n",
       "      <td>-0.129380</td>\n",
       "      <td>-0.208815</td>\n",
       "      <td>0.043244</td>\n",
       "      <td>0.032073</td>\n",
       "    </tr>\n",
       "    <tr>\n",
       "      <th>runtime</th>\n",
       "      <td>-0.173551</td>\n",
       "      <td>1.000000</td>\n",
       "      <td>-0.139642</td>\n",
       "      <td>-0.148068</td>\n",
       "      <td>0.139760</td>\n",
       "      <td>0.002545</td>\n",
       "      <td>-0.277454</td>\n",
       "    </tr>\n",
       "    <tr>\n",
       "      <th>seasons</th>\n",
       "      <td>-0.504407</td>\n",
       "      <td>-0.139642</td>\n",
       "      <td>1.000000</td>\n",
       "      <td>0.106806</td>\n",
       "      <td>0.206079</td>\n",
       "      <td>0.168051</td>\n",
       "      <td>0.044023</td>\n",
       "    </tr>\n",
       "    <tr>\n",
       "      <th>imdb_score</th>\n",
       "      <td>-0.129380</td>\n",
       "      <td>-0.148068</td>\n",
       "      <td>0.106806</td>\n",
       "      <td>1.000000</td>\n",
       "      <td>0.190661</td>\n",
       "      <td>0.017675</td>\n",
       "      <td>0.570754</td>\n",
       "    </tr>\n",
       "    <tr>\n",
       "      <th>imdb_votes</th>\n",
       "      <td>-0.208815</td>\n",
       "      <td>0.139760</td>\n",
       "      <td>0.206079</td>\n",
       "      <td>0.190661</td>\n",
       "      <td>1.000000</td>\n",
       "      <td>0.209763</td>\n",
       "      <td>0.112960</td>\n",
       "    </tr>\n",
       "    <tr>\n",
       "      <th>tmdb_popularity</th>\n",
       "      <td>0.043244</td>\n",
       "      <td>0.002545</td>\n",
       "      <td>0.168051</td>\n",
       "      <td>0.017675</td>\n",
       "      <td>0.209763</td>\n",
       "      <td>1.000000</td>\n",
       "      <td>0.071894</td>\n",
       "    </tr>\n",
       "    <tr>\n",
       "      <th>tmdb_score</th>\n",
       "      <td>0.032073</td>\n",
       "      <td>-0.277454</td>\n",
       "      <td>0.044023</td>\n",
       "      <td>0.570754</td>\n",
       "      <td>0.112960</td>\n",
       "      <td>0.071894</td>\n",
       "      <td>1.000000</td>\n",
       "    </tr>\n",
       "  </tbody>\n",
       "</table>\n",
       "</div>"
      ],
      "text/plain": [
       "                 release_year   runtime   seasons  imdb_score  imdb_votes  \\\n",
       "release_year         1.000000 -0.173551 -0.504407   -0.129380   -0.208815   \n",
       "runtime             -0.173551  1.000000 -0.139642   -0.148068    0.139760   \n",
       "seasons             -0.504407 -0.139642  1.000000    0.106806    0.206079   \n",
       "imdb_score          -0.129380 -0.148068  0.106806    1.000000    0.190661   \n",
       "imdb_votes          -0.208815  0.139760  0.206079    0.190661    1.000000   \n",
       "tmdb_popularity      0.043244  0.002545  0.168051    0.017675    0.209763   \n",
       "tmdb_score           0.032073 -0.277454  0.044023    0.570754    0.112960   \n",
       "\n",
       "                 tmdb_popularity  tmdb_score  \n",
       "release_year            0.043244    0.032073  \n",
       "runtime                 0.002545   -0.277454  \n",
       "seasons                 0.168051    0.044023  \n",
       "imdb_score              0.017675    0.570754  \n",
       "imdb_votes              0.209763    0.112960  \n",
       "tmdb_popularity         1.000000    0.071894  \n",
       "tmdb_score              0.071894    1.000000  "
      ]
     },
     "execution_count": 83,
     "metadata": {},
     "output_type": "execute_result"
    }
   ],
   "source": [
    "df_num.corr()"
   ]
  }
 ],
 "metadata": {
  "kernelspec": {
   "display_name": "Python 3 (ipykernel)",
   "language": "python",
   "name": "python3"
  },
  "language_info": {
   "codemirror_mode": {
    "name": "ipython",
    "version": 3
   },
   "file_extension": ".py",
   "mimetype": "text/x-python",
   "name": "python",
   "nbconvert_exporter": "python",
   "pygments_lexer": "ipython3",
   "version": "3.9.12"
  },
  "papermill": {
   "default_parameters": {},
   "duration": 24.226161,
   "end_time": "2022-07-31T15:09:15.632133",
   "environment_variables": {},
   "exception": null,
   "input_path": "__notebook__.ipynb",
   "output_path": "__notebook__.ipynb",
   "parameters": {},
   "start_time": "2022-07-31T15:08:51.405972",
   "version": "2.3.4"
  }
 },
 "nbformat": 4,
 "nbformat_minor": 5
}
